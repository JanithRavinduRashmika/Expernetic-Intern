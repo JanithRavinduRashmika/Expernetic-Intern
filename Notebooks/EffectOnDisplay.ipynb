{
 "cells": [
  {
   "cell_type": "code",
   "execution_count": 69,
   "metadata": {},
   "outputs": [],
   "source": [
    "import numpy as np \n",
    "import pandas as pd\n",
    "import matplotlib.pyplot as plt\n",
    "import seaborn as sns\n",
    "from scipy import stats"
   ]
  },
  {
   "cell_type": "code",
   "execution_count": 70,
   "metadata": {},
   "outputs": [],
   "source": [
    "# Load data sets.\n",
    "\n",
    "itemDf = pd.read_csv(\"../Data/item.csv\")\n",
    "promotionDf = pd.read_csv(\"../Data/promotion.csv\")\n",
    "salesDf = pd.read_csv(\"../Data/sales.csv\")\n",
    "supermarketsDf = pd.read_csv(\"../Data/supermarkets.csv\")"
   ]
  },
  {
   "cell_type": "code",
   "execution_count": 71,
   "metadata": {},
   "outputs": [
    {
     "data": {
      "text/html": [
       "<div>\n",
       "<style scoped>\n",
       "    .dataframe tbody tr th:only-of-type {\n",
       "        vertical-align: middle;\n",
       "    }\n",
       "\n",
       "    .dataframe tbody tr th {\n",
       "        vertical-align: top;\n",
       "    }\n",
       "\n",
       "    .dataframe thead th {\n",
       "        text-align: right;\n",
       "    }\n",
       "</style>\n",
       "<table border=\"1\" class=\"dataframe\">\n",
       "  <thead>\n",
       "    <tr style=\"text-align: right;\">\n",
       "      <th></th>\n",
       "      <th>code</th>\n",
       "      <th>amount</th>\n",
       "      <th>units</th>\n",
       "      <th>time</th>\n",
       "      <th>province</th>\n",
       "      <th>week</th>\n",
       "      <th>customerId</th>\n",
       "      <th>supermarket</th>\n",
       "      <th>basket</th>\n",
       "      <th>day</th>\n",
       "      <th>voucher</th>\n",
       "    </tr>\n",
       "  </thead>\n",
       "  <tbody>\n",
       "    <tr>\n",
       "      <th>0</th>\n",
       "      <td>7680850106</td>\n",
       "      <td>0.80</td>\n",
       "      <td>1</td>\n",
       "      <td>1100</td>\n",
       "      <td>2</td>\n",
       "      <td>1</td>\n",
       "      <td>125434</td>\n",
       "      <td>244</td>\n",
       "      <td>1</td>\n",
       "      <td>1</td>\n",
       "      <td>0</td>\n",
       "    </tr>\n",
       "    <tr>\n",
       "      <th>1</th>\n",
       "      <td>3620000470</td>\n",
       "      <td>3.59</td>\n",
       "      <td>1</td>\n",
       "      <td>1100</td>\n",
       "      <td>2</td>\n",
       "      <td>1</td>\n",
       "      <td>125434</td>\n",
       "      <td>244</td>\n",
       "      <td>1</td>\n",
       "      <td>1</td>\n",
       "      <td>0</td>\n",
       "    </tr>\n",
       "    <tr>\n",
       "      <th>2</th>\n",
       "      <td>1800028064</td>\n",
       "      <td>2.25</td>\n",
       "      <td>1</td>\n",
       "      <td>1137</td>\n",
       "      <td>2</td>\n",
       "      <td>1</td>\n",
       "      <td>108320</td>\n",
       "      <td>244</td>\n",
       "      <td>2</td>\n",
       "      <td>1</td>\n",
       "      <td>0</td>\n",
       "    </tr>\n",
       "    <tr>\n",
       "      <th>3</th>\n",
       "      <td>9999985067</td>\n",
       "      <td>0.85</td>\n",
       "      <td>1</td>\n",
       "      <td>1148</td>\n",
       "      <td>2</td>\n",
       "      <td>1</td>\n",
       "      <td>162016</td>\n",
       "      <td>244</td>\n",
       "      <td>3</td>\n",
       "      <td>1</td>\n",
       "      <td>0</td>\n",
       "    </tr>\n",
       "    <tr>\n",
       "      <th>4</th>\n",
       "      <td>9999985131</td>\n",
       "      <td>2.19</td>\n",
       "      <td>1</td>\n",
       "      <td>1323</td>\n",
       "      <td>2</td>\n",
       "      <td>1</td>\n",
       "      <td>89437</td>\n",
       "      <td>244</td>\n",
       "      <td>4</td>\n",
       "      <td>1</td>\n",
       "      <td>0</td>\n",
       "    </tr>\n",
       "    <tr>\n",
       "      <th>...</th>\n",
       "      <td>...</td>\n",
       "      <td>...</td>\n",
       "      <td>...</td>\n",
       "      <td>...</td>\n",
       "      <td>...</td>\n",
       "      <td>...</td>\n",
       "      <td>...</td>\n",
       "      <td>...</td>\n",
       "      <td>...</td>\n",
       "      <td>...</td>\n",
       "      <td>...</td>\n",
       "    </tr>\n",
       "    <tr>\n",
       "      <th>1048099</th>\n",
       "      <td>1510000011</td>\n",
       "      <td>2.35</td>\n",
       "      <td>1</td>\n",
       "      <td>1307</td>\n",
       "      <td>2</td>\n",
       "      <td>27</td>\n",
       "      <td>43825</td>\n",
       "      <td>346</td>\n",
       "      <td>665448</td>\n",
       "      <td>189</td>\n",
       "      <td>0</td>\n",
       "    </tr>\n",
       "    <tr>\n",
       "      <th>1048100</th>\n",
       "      <td>3620000489</td>\n",
       "      <td>0.99</td>\n",
       "      <td>1</td>\n",
       "      <td>1307</td>\n",
       "      <td>2</td>\n",
       "      <td>27</td>\n",
       "      <td>43825</td>\n",
       "      <td>346</td>\n",
       "      <td>665448</td>\n",
       "      <td>189</td>\n",
       "      <td>0</td>\n",
       "    </tr>\n",
       "    <tr>\n",
       "      <th>1048101</th>\n",
       "      <td>9999971309</td>\n",
       "      <td>2.00</td>\n",
       "      <td>2</td>\n",
       "      <td>1410</td>\n",
       "      <td>2</td>\n",
       "      <td>27</td>\n",
       "      <td>42140</td>\n",
       "      <td>346</td>\n",
       "      <td>665449</td>\n",
       "      <td>189</td>\n",
       "      <td>0</td>\n",
       "    </tr>\n",
       "    <tr>\n",
       "      <th>1048102</th>\n",
       "      <td>3620000250</td>\n",
       "      <td>1.98</td>\n",
       "      <td>2</td>\n",
       "      <td>1415</td>\n",
       "      <td>2</td>\n",
       "      <td>27</td>\n",
       "      <td>53544</td>\n",
       "      <td>346</td>\n",
       "      <td>665450</td>\n",
       "      <td>189</td>\n",
       "      <td>0</td>\n",
       "    </tr>\n",
       "    <tr>\n",
       "      <th>1048103</th>\n",
       "      <td>3620000350</td>\n",
       "      <td>1.98</td>\n",
       "      <td>2</td>\n",
       "      <td>1415</td>\n",
       "      <td>2</td>\n",
       "      <td>27</td>\n",
       "      <td>53544</td>\n",
       "      <td>346</td>\n",
       "      <td>665450</td>\n",
       "      <td>189</td>\n",
       "      <td>0</td>\n",
       "    </tr>\n",
       "  </tbody>\n",
       "</table>\n",
       "<p>1048104 rows × 11 columns</p>\n",
       "</div>"
      ],
      "text/plain": [
       "               code  amount  units  time  province  week  customerId  \\\n",
       "0        7680850106    0.80      1  1100         2     1      125434   \n",
       "1        3620000470    3.59      1  1100         2     1      125434   \n",
       "2        1800028064    2.25      1  1137         2     1      108320   \n",
       "3        9999985067    0.85      1  1148         2     1      162016   \n",
       "4        9999985131    2.19      1  1323         2     1       89437   \n",
       "...             ...     ...    ...   ...       ...   ...         ...   \n",
       "1048099  1510000011    2.35      1  1307         2    27       43825   \n",
       "1048100  3620000489    0.99      1  1307         2    27       43825   \n",
       "1048101  9999971309    2.00      2  1410         2    27       42140   \n",
       "1048102  3620000250    1.98      2  1415         2    27       53544   \n",
       "1048103  3620000350    1.98      2  1415         2    27       53544   \n",
       "\n",
       "         supermarket  basket  day  voucher  \n",
       "0                244       1    1        0  \n",
       "1                244       1    1        0  \n",
       "2                244       2    1        0  \n",
       "3                244       3    1        0  \n",
       "4                244       4    1        0  \n",
       "...              ...     ...  ...      ...  \n",
       "1048099          346  665448  189        0  \n",
       "1048100          346  665448  189        0  \n",
       "1048101          346  665449  189        0  \n",
       "1048102          346  665450  189        0  \n",
       "1048103          346  665450  189        0  \n",
       "\n",
       "[1048104 rows x 11 columns]"
      ]
     },
     "execution_count": 71,
     "metadata": {},
     "output_type": "execute_result"
    }
   ],
   "source": [
    "salesDf"
   ]
  },
  {
   "cell_type": "code",
   "execution_count": 72,
   "metadata": {},
   "outputs": [
    {
     "data": {
      "text/html": [
       "<div>\n",
       "<style scoped>\n",
       "    .dataframe tbody tr th:only-of-type {\n",
       "        vertical-align: middle;\n",
       "    }\n",
       "\n",
       "    .dataframe tbody tr th {\n",
       "        vertical-align: top;\n",
       "    }\n",
       "\n",
       "    .dataframe thead th {\n",
       "        text-align: right;\n",
       "    }\n",
       "</style>\n",
       "<table border=\"1\" class=\"dataframe\">\n",
       "  <thead>\n",
       "    <tr style=\"text-align: right;\">\n",
       "      <th></th>\n",
       "      <th>code</th>\n",
       "      <th>supermarkets</th>\n",
       "      <th>week</th>\n",
       "      <th>feature</th>\n",
       "      <th>display</th>\n",
       "      <th>province</th>\n",
       "    </tr>\n",
       "  </thead>\n",
       "  <tbody>\n",
       "    <tr>\n",
       "      <th>0</th>\n",
       "      <td>2700042240</td>\n",
       "      <td>285</td>\n",
       "      <td>91</td>\n",
       "      <td>Not on Feature</td>\n",
       "      <td>Mid-Aisle End Cap</td>\n",
       "      <td>2</td>\n",
       "    </tr>\n",
       "    <tr>\n",
       "      <th>1</th>\n",
       "      <td>2700042292</td>\n",
       "      <td>285</td>\n",
       "      <td>92</td>\n",
       "      <td>Interior Page Feature</td>\n",
       "      <td>Not on Display</td>\n",
       "      <td>2</td>\n",
       "    </tr>\n",
       "    <tr>\n",
       "      <th>2</th>\n",
       "      <td>2700042274</td>\n",
       "      <td>285</td>\n",
       "      <td>92</td>\n",
       "      <td>Interior Page Feature</td>\n",
       "      <td>Not on Display</td>\n",
       "      <td>2</td>\n",
       "    </tr>\n",
       "    <tr>\n",
       "      <th>3</th>\n",
       "      <td>2700042273</td>\n",
       "      <td>285</td>\n",
       "      <td>92</td>\n",
       "      <td>Interior Page Feature</td>\n",
       "      <td>Not on Display</td>\n",
       "      <td>2</td>\n",
       "    </tr>\n",
       "    <tr>\n",
       "      <th>4</th>\n",
       "      <td>2700042254</td>\n",
       "      <td>285</td>\n",
       "      <td>92</td>\n",
       "      <td>Interior Page Feature</td>\n",
       "      <td>Not on Display</td>\n",
       "      <td>2</td>\n",
       "    </tr>\n",
       "    <tr>\n",
       "      <th>...</th>\n",
       "      <td>...</td>\n",
       "      <td>...</td>\n",
       "      <td>...</td>\n",
       "      <td>...</td>\n",
       "      <td>...</td>\n",
       "      <td>...</td>\n",
       "    </tr>\n",
       "    <tr>\n",
       "      <th>351367</th>\n",
       "      <td>9999966721</td>\n",
       "      <td>387</td>\n",
       "      <td>101</td>\n",
       "      <td>Wrap Front Feature</td>\n",
       "      <td>Not on Display</td>\n",
       "      <td>1</td>\n",
       "    </tr>\n",
       "    <tr>\n",
       "      <th>351368</th>\n",
       "      <td>9999966720</td>\n",
       "      <td>387</td>\n",
       "      <td>101</td>\n",
       "      <td>Wrap Front Feature</td>\n",
       "      <td>Not on Display</td>\n",
       "      <td>1</td>\n",
       "    </tr>\n",
       "    <tr>\n",
       "      <th>351369</th>\n",
       "      <td>3620000507</td>\n",
       "      <td>387</td>\n",
       "      <td>104</td>\n",
       "      <td>Interior Page Feature</td>\n",
       "      <td>Not on Display</td>\n",
       "      <td>1</td>\n",
       "    </tr>\n",
       "    <tr>\n",
       "      <th>351370</th>\n",
       "      <td>3620000493</td>\n",
       "      <td>387</td>\n",
       "      <td>104</td>\n",
       "      <td>Interior Page Feature</td>\n",
       "      <td>Not on Display</td>\n",
       "      <td>1</td>\n",
       "    </tr>\n",
       "    <tr>\n",
       "      <th>351371</th>\n",
       "      <td>9999966715</td>\n",
       "      <td>387</td>\n",
       "      <td>101</td>\n",
       "      <td>Wrap Front Feature</td>\n",
       "      <td>Not on Display</td>\n",
       "      <td>1</td>\n",
       "    </tr>\n",
       "  </tbody>\n",
       "</table>\n",
       "<p>351372 rows × 6 columns</p>\n",
       "</div>"
      ],
      "text/plain": [
       "              code  supermarkets  week                feature  \\\n",
       "0       2700042240           285    91         Not on Feature   \n",
       "1       2700042292           285    92  Interior Page Feature   \n",
       "2       2700042274           285    92  Interior Page Feature   \n",
       "3       2700042273           285    92  Interior Page Feature   \n",
       "4       2700042254           285    92  Interior Page Feature   \n",
       "...            ...           ...   ...                    ...   \n",
       "351367  9999966721           387   101     Wrap Front Feature   \n",
       "351368  9999966720           387   101     Wrap Front Feature   \n",
       "351369  3620000507           387   104  Interior Page Feature   \n",
       "351370  3620000493           387   104  Interior Page Feature   \n",
       "351371  9999966715           387   101     Wrap Front Feature   \n",
       "\n",
       "                  display  province  \n",
       "0       Mid-Aisle End Cap         2  \n",
       "1          Not on Display         2  \n",
       "2          Not on Display         2  \n",
       "3          Not on Display         2  \n",
       "4          Not on Display         2  \n",
       "...                   ...       ...  \n",
       "351367     Not on Display         1  \n",
       "351368     Not on Display         1  \n",
       "351369     Not on Display         1  \n",
       "351370     Not on Display         1  \n",
       "351371     Not on Display         1  \n",
       "\n",
       "[351372 rows x 6 columns]"
      ]
     },
     "execution_count": 72,
     "metadata": {},
     "output_type": "execute_result"
    }
   ],
   "source": [
    "promotionDf"
   ]
  },
  {
   "cell_type": "code",
   "execution_count": 73,
   "metadata": {},
   "outputs": [],
   "source": [
    "grouped_salesDf = salesDf.groupby(['code', 'province']).agg({\n",
    "    'amount': 'sum',\n",
    "    'units': 'sum'\n",
    "}).reset_index()"
   ]
  },
  {
   "cell_type": "code",
   "execution_count": 74,
   "metadata": {},
   "outputs": [
    {
     "data": {
      "text/html": [
       "<div>\n",
       "<style scoped>\n",
       "    .dataframe tbody tr th:only-of-type {\n",
       "        vertical-align: middle;\n",
       "    }\n",
       "\n",
       "    .dataframe tbody tr th {\n",
       "        vertical-align: top;\n",
       "    }\n",
       "\n",
       "    .dataframe thead th {\n",
       "        text-align: right;\n",
       "    }\n",
       "</style>\n",
       "<table border=\"1\" class=\"dataframe\">\n",
       "  <thead>\n",
       "    <tr style=\"text-align: right;\">\n",
       "      <th></th>\n",
       "      <th>code</th>\n",
       "      <th>province</th>\n",
       "      <th>amount</th>\n",
       "      <th>units</th>\n",
       "    </tr>\n",
       "  </thead>\n",
       "  <tbody>\n",
       "    <tr>\n",
       "      <th>0</th>\n",
       "      <td>111112360</td>\n",
       "      <td>1</td>\n",
       "      <td>74.67</td>\n",
       "      <td>13</td>\n",
       "    </tr>\n",
       "    <tr>\n",
       "      <th>1</th>\n",
       "      <td>566300023</td>\n",
       "      <td>1</td>\n",
       "      <td>103.39</td>\n",
       "      <td>31</td>\n",
       "    </tr>\n",
       "    <tr>\n",
       "      <th>2</th>\n",
       "      <td>566300028</td>\n",
       "      <td>1</td>\n",
       "      <td>1023.93</td>\n",
       "      <td>367</td>\n",
       "    </tr>\n",
       "    <tr>\n",
       "      <th>3</th>\n",
       "      <td>566300029</td>\n",
       "      <td>1</td>\n",
       "      <td>1.49</td>\n",
       "      <td>1</td>\n",
       "    </tr>\n",
       "    <tr>\n",
       "      <th>4</th>\n",
       "      <td>566300035</td>\n",
       "      <td>1</td>\n",
       "      <td>17.52</td>\n",
       "      <td>8</td>\n",
       "    </tr>\n",
       "    <tr>\n",
       "      <th>...</th>\n",
       "      <td>...</td>\n",
       "      <td>...</td>\n",
       "      <td>...</td>\n",
       "      <td>...</td>\n",
       "    </tr>\n",
       "    <tr>\n",
       "      <th>1192</th>\n",
       "      <td>9999985260</td>\n",
       "      <td>2</td>\n",
       "      <td>5604.81</td>\n",
       "      <td>4065</td>\n",
       "    </tr>\n",
       "    <tr>\n",
       "      <th>1193</th>\n",
       "      <td>9999985488</td>\n",
       "      <td>1</td>\n",
       "      <td>737.13</td>\n",
       "      <td>303</td>\n",
       "    </tr>\n",
       "    <tr>\n",
       "      <th>1194</th>\n",
       "      <td>9999985488</td>\n",
       "      <td>2</td>\n",
       "      <td>494.35</td>\n",
       "      <td>183</td>\n",
       "    </tr>\n",
       "    <tr>\n",
       "      <th>1195</th>\n",
       "      <td>9999985766</td>\n",
       "      <td>1</td>\n",
       "      <td>880.17</td>\n",
       "      <td>406</td>\n",
       "    </tr>\n",
       "    <tr>\n",
       "      <th>1196</th>\n",
       "      <td>9999985766</td>\n",
       "      <td>2</td>\n",
       "      <td>941.83</td>\n",
       "      <td>528</td>\n",
       "    </tr>\n",
       "  </tbody>\n",
       "</table>\n",
       "<p>1197 rows × 4 columns</p>\n",
       "</div>"
      ],
      "text/plain": [
       "            code  province   amount  units\n",
       "0      111112360         1    74.67     13\n",
       "1      566300023         1   103.39     31\n",
       "2      566300028         1  1023.93    367\n",
       "3      566300029         1     1.49      1\n",
       "4      566300035         1    17.52      8\n",
       "...          ...       ...      ...    ...\n",
       "1192  9999985260         2  5604.81   4065\n",
       "1193  9999985488         1   737.13    303\n",
       "1194  9999985488         2   494.35    183\n",
       "1195  9999985766         1   880.17    406\n",
       "1196  9999985766         2   941.83    528\n",
       "\n",
       "[1197 rows x 4 columns]"
      ]
     },
     "execution_count": 74,
     "metadata": {},
     "output_type": "execute_result"
    }
   ],
   "source": [
    "grouped_salesDf"
   ]
  },
  {
   "cell_type": "code",
   "execution_count": 75,
   "metadata": {},
   "outputs": [],
   "source": [
    "def mode_function(x):\n",
    "    return x.mode()[0] if not x.mode().empty else None\n",
    "\n",
    "grouped_promotionDf = promotionDf.groupby(['code', 'province']).agg({\n",
    "    'feature': mode_function,\n",
    "    'display': mode_function\n",
    "}).reset_index()"
   ]
  },
  {
   "cell_type": "code",
   "execution_count": 76,
   "metadata": {},
   "outputs": [
    {
     "data": {
      "text/html": [
       "<div>\n",
       "<style scoped>\n",
       "    .dataframe tbody tr th:only-of-type {\n",
       "        vertical-align: middle;\n",
       "    }\n",
       "\n",
       "    .dataframe tbody tr th {\n",
       "        vertical-align: top;\n",
       "    }\n",
       "\n",
       "    .dataframe thead th {\n",
       "        text-align: right;\n",
       "    }\n",
       "</style>\n",
       "<table border=\"1\" class=\"dataframe\">\n",
       "  <thead>\n",
       "    <tr style=\"text-align: right;\">\n",
       "      <th></th>\n",
       "      <th>code</th>\n",
       "      <th>province</th>\n",
       "      <th>feature</th>\n",
       "      <th>display</th>\n",
       "    </tr>\n",
       "  </thead>\n",
       "  <tbody>\n",
       "    <tr>\n",
       "      <th>0</th>\n",
       "      <td>601011292</td>\n",
       "      <td>1</td>\n",
       "      <td>Interior Page Feature</td>\n",
       "      <td>Not on Display</td>\n",
       "    </tr>\n",
       "    <tr>\n",
       "      <th>1</th>\n",
       "      <td>601011292</td>\n",
       "      <td>2</td>\n",
       "      <td>Interior Page Feature</td>\n",
       "      <td>Not on Display</td>\n",
       "    </tr>\n",
       "    <tr>\n",
       "      <th>2</th>\n",
       "      <td>601011293</td>\n",
       "      <td>1</td>\n",
       "      <td>Interior Page Feature</td>\n",
       "      <td>Not on Display</td>\n",
       "    </tr>\n",
       "    <tr>\n",
       "      <th>3</th>\n",
       "      <td>601011293</td>\n",
       "      <td>2</td>\n",
       "      <td>Interior Page Feature</td>\n",
       "      <td>Not on Display</td>\n",
       "    </tr>\n",
       "    <tr>\n",
       "      <th>4</th>\n",
       "      <td>601011294</td>\n",
       "      <td>1</td>\n",
       "      <td>Not on Feature</td>\n",
       "      <td>Secondary Location Display</td>\n",
       "    </tr>\n",
       "    <tr>\n",
       "      <th>...</th>\n",
       "      <td>...</td>\n",
       "      <td>...</td>\n",
       "      <td>...</td>\n",
       "      <td>...</td>\n",
       "    </tr>\n",
       "    <tr>\n",
       "      <th>763</th>\n",
       "      <td>9999985260</td>\n",
       "      <td>2</td>\n",
       "      <td>Interior Page Feature</td>\n",
       "      <td>Not on Display</td>\n",
       "    </tr>\n",
       "    <tr>\n",
       "      <th>764</th>\n",
       "      <td>9999985488</td>\n",
       "      <td>1</td>\n",
       "      <td>Not on Feature</td>\n",
       "      <td>Rear End Cap</td>\n",
       "    </tr>\n",
       "    <tr>\n",
       "      <th>765</th>\n",
       "      <td>9999985488</td>\n",
       "      <td>2</td>\n",
       "      <td>Not on Feature</td>\n",
       "      <td>Mid-Aisle End Cap</td>\n",
       "    </tr>\n",
       "    <tr>\n",
       "      <th>766</th>\n",
       "      <td>9999985766</td>\n",
       "      <td>1</td>\n",
       "      <td>Not on Feature</td>\n",
       "      <td>In-Shelf</td>\n",
       "    </tr>\n",
       "    <tr>\n",
       "      <th>767</th>\n",
       "      <td>9999985766</td>\n",
       "      <td>2</td>\n",
       "      <td>Not on Feature</td>\n",
       "      <td>In-Shelf</td>\n",
       "    </tr>\n",
       "  </tbody>\n",
       "</table>\n",
       "<p>768 rows × 4 columns</p>\n",
       "</div>"
      ],
      "text/plain": [
       "           code  province                feature                     display\n",
       "0     601011292         1  Interior Page Feature              Not on Display\n",
       "1     601011292         2  Interior Page Feature              Not on Display\n",
       "2     601011293         1  Interior Page Feature              Not on Display\n",
       "3     601011293         2  Interior Page Feature              Not on Display\n",
       "4     601011294         1         Not on Feature  Secondary Location Display\n",
       "..          ...       ...                    ...                         ...\n",
       "763  9999985260         2  Interior Page Feature              Not on Display\n",
       "764  9999985488         1         Not on Feature                Rear End Cap\n",
       "765  9999985488         2         Not on Feature           Mid-Aisle End Cap\n",
       "766  9999985766         1         Not on Feature                    In-Shelf\n",
       "767  9999985766         2         Not on Feature                    In-Shelf\n",
       "\n",
       "[768 rows x 4 columns]"
      ]
     },
     "execution_count": 76,
     "metadata": {},
     "output_type": "execute_result"
    }
   ],
   "source": [
    "grouped_promotionDf"
   ]
  },
  {
   "cell_type": "code",
   "execution_count": 77,
   "metadata": {},
   "outputs": [],
   "source": [
    "merged_df = pd.merge(grouped_salesDf, grouped_promotionDf, on=['code', 'province'], how='inner')"
   ]
  },
  {
   "cell_type": "code",
   "execution_count": 78,
   "metadata": {},
   "outputs": [
    {
     "data": {
      "text/html": [
       "<div>\n",
       "<style scoped>\n",
       "    .dataframe tbody tr th:only-of-type {\n",
       "        vertical-align: middle;\n",
       "    }\n",
       "\n",
       "    .dataframe tbody tr th {\n",
       "        vertical-align: top;\n",
       "    }\n",
       "\n",
       "    .dataframe thead th {\n",
       "        text-align: right;\n",
       "    }\n",
       "</style>\n",
       "<table border=\"1\" class=\"dataframe\">\n",
       "  <thead>\n",
       "    <tr style=\"text-align: right;\">\n",
       "      <th></th>\n",
       "      <th>code</th>\n",
       "      <th>province</th>\n",
       "      <th>amount</th>\n",
       "      <th>units</th>\n",
       "      <th>feature</th>\n",
       "      <th>display</th>\n",
       "    </tr>\n",
       "  </thead>\n",
       "  <tbody>\n",
       "    <tr>\n",
       "      <th>0</th>\n",
       "      <td>601011292</td>\n",
       "      <td>1</td>\n",
       "      <td>4780.98</td>\n",
       "      <td>2367</td>\n",
       "      <td>Interior Page Feature</td>\n",
       "      <td>Not on Display</td>\n",
       "    </tr>\n",
       "    <tr>\n",
       "      <th>1</th>\n",
       "      <td>601011292</td>\n",
       "      <td>2</td>\n",
       "      <td>4245.54</td>\n",
       "      <td>1632</td>\n",
       "      <td>Interior Page Feature</td>\n",
       "      <td>Not on Display</td>\n",
       "    </tr>\n",
       "    <tr>\n",
       "      <th>2</th>\n",
       "      <td>601011293</td>\n",
       "      <td>1</td>\n",
       "      <td>3372.91</td>\n",
       "      <td>1675</td>\n",
       "      <td>Interior Page Feature</td>\n",
       "      <td>Not on Display</td>\n",
       "    </tr>\n",
       "    <tr>\n",
       "      <th>3</th>\n",
       "      <td>601011293</td>\n",
       "      <td>2</td>\n",
       "      <td>119.80</td>\n",
       "      <td>46</td>\n",
       "      <td>Interior Page Feature</td>\n",
       "      <td>Not on Display</td>\n",
       "    </tr>\n",
       "    <tr>\n",
       "      <th>4</th>\n",
       "      <td>601011294</td>\n",
       "      <td>1</td>\n",
       "      <td>2.49</td>\n",
       "      <td>1</td>\n",
       "      <td>Not on Feature</td>\n",
       "      <td>Secondary Location Display</td>\n",
       "    </tr>\n",
       "    <tr>\n",
       "      <th>...</th>\n",
       "      <td>...</td>\n",
       "      <td>...</td>\n",
       "      <td>...</td>\n",
       "      <td>...</td>\n",
       "      <td>...</td>\n",
       "      <td>...</td>\n",
       "    </tr>\n",
       "    <tr>\n",
       "      <th>659</th>\n",
       "      <td>9999985260</td>\n",
       "      <td>2</td>\n",
       "      <td>5604.81</td>\n",
       "      <td>4065</td>\n",
       "      <td>Interior Page Feature</td>\n",
       "      <td>Not on Display</td>\n",
       "    </tr>\n",
       "    <tr>\n",
       "      <th>660</th>\n",
       "      <td>9999985488</td>\n",
       "      <td>1</td>\n",
       "      <td>737.13</td>\n",
       "      <td>303</td>\n",
       "      <td>Not on Feature</td>\n",
       "      <td>Rear End Cap</td>\n",
       "    </tr>\n",
       "    <tr>\n",
       "      <th>661</th>\n",
       "      <td>9999985488</td>\n",
       "      <td>2</td>\n",
       "      <td>494.35</td>\n",
       "      <td>183</td>\n",
       "      <td>Not on Feature</td>\n",
       "      <td>Mid-Aisle End Cap</td>\n",
       "    </tr>\n",
       "    <tr>\n",
       "      <th>662</th>\n",
       "      <td>9999985766</td>\n",
       "      <td>1</td>\n",
       "      <td>880.17</td>\n",
       "      <td>406</td>\n",
       "      <td>Not on Feature</td>\n",
       "      <td>In-Shelf</td>\n",
       "    </tr>\n",
       "    <tr>\n",
       "      <th>663</th>\n",
       "      <td>9999985766</td>\n",
       "      <td>2</td>\n",
       "      <td>941.83</td>\n",
       "      <td>528</td>\n",
       "      <td>Not on Feature</td>\n",
       "      <td>In-Shelf</td>\n",
       "    </tr>\n",
       "  </tbody>\n",
       "</table>\n",
       "<p>664 rows × 6 columns</p>\n",
       "</div>"
      ],
      "text/plain": [
       "           code  province   amount  units                feature  \\\n",
       "0     601011292         1  4780.98   2367  Interior Page Feature   \n",
       "1     601011292         2  4245.54   1632  Interior Page Feature   \n",
       "2     601011293         1  3372.91   1675  Interior Page Feature   \n",
       "3     601011293         2   119.80     46  Interior Page Feature   \n",
       "4     601011294         1     2.49      1         Not on Feature   \n",
       "..          ...       ...      ...    ...                    ...   \n",
       "659  9999985260         2  5604.81   4065  Interior Page Feature   \n",
       "660  9999985488         1   737.13    303         Not on Feature   \n",
       "661  9999985488         2   494.35    183         Not on Feature   \n",
       "662  9999985766         1   880.17    406         Not on Feature   \n",
       "663  9999985766         2   941.83    528         Not on Feature   \n",
       "\n",
       "                        display  \n",
       "0                Not on Display  \n",
       "1                Not on Display  \n",
       "2                Not on Display  \n",
       "3                Not on Display  \n",
       "4    Secondary Location Display  \n",
       "..                          ...  \n",
       "659              Not on Display  \n",
       "660                Rear End Cap  \n",
       "661           Mid-Aisle End Cap  \n",
       "662                    In-Shelf  \n",
       "663                    In-Shelf  \n",
       "\n",
       "[664 rows x 6 columns]"
      ]
     },
     "execution_count": 78,
     "metadata": {},
     "output_type": "execute_result"
    }
   ],
   "source": [
    "merged_df"
   ]
  },
  {
   "cell_type": "markdown",
   "metadata": {},
   "source": [
    "## Effect of Display"
   ]
  },
  {
   "cell_type": "code",
   "execution_count": 79,
   "metadata": {},
   "outputs": [],
   "source": [
    "merged_df['display'] = merged_df['display'].replace({'Front End Cap': 'High Visibility', \n",
    "                                                     'Store Front': 'High Visibility', \n",
    "                                                     'Promo/Seasonal Aisle': 'High Visibility',\n",
    "                                                     'Mid-Aisle End Cap': 'Medium Visibility', \n",
    "                                                     'Secondary Location Display': 'Medium Visibility', \n",
    "                                                     'Side-Aisle End Cap': 'Medium Visibility',\n",
    "                                                     'Rear End Cap': 'Medium Visibility', \n",
    "                                                     'Not on Display': 'Low Visibility', \n",
    "                                                     'In-Shelf': 'Low Visibility',\n",
    "                                                     'Store Rear': 'Low Visibility', \n",
    "                                                     'In-Aisle': 'Low Visibility'\n",
    "                                                     })"
   ]
  },
  {
   "cell_type": "code",
   "execution_count": 80,
   "metadata": {},
   "outputs": [
    {
     "data": {
      "image/png": "[encoded data removed]",
      "text/plain": [
       "<Figure size 800x600 with 1 Axes>"
      ]
     },
     "metadata": {},
     "output_type": "display_data"
    }
   ],
   "source": [
    "category_order = ['Low Visibility', 'Medium Visibility', 'High Visibility']\n",
    "\n",
    "# Create a blue color palette\n",
    "blue_palette = sns.color_palette(\"Blues\", 3)\n",
    "\n",
    "# Create a box plot for 'units' categorized by 'display' with specific order and palette\n",
    "plt.figure(figsize=(8, 6))\n",
    "sns.boxplot(x='display', y='units', data=merged_df, order=category_order, palette=blue_palette)\n",
    "plt.title('Box Plot of Units by Display Category')\n",
    "plt.xlabel('Display')\n",
    "plt.ylabel('Units Sold by Items')\n",
    "plt.show()"
   ]
  },
  {
   "cell_type": "code",
   "execution_count": 81,
   "metadata": {},
   "outputs": [
    {
     "name": "stderr",
     "output_type": "stream",
     "text": [
      "c:\\Users\\Admin\\anaconda3\\Lib\\site-packages\\seaborn\\categorical.py:641: FutureWarning: The default of observed=False is deprecated and will be changed to True in a future version of pandas. Pass observed=False to retain current behavior or observed=True to adopt the future default and silence this warning.\n",
      "  grouped_vals = vals.groupby(grouper)\n"
     ]
    },
    {
     "data": {
      "image/png": "[encoded data removed]",
      "text/plain": [
       "<Figure size 800x600 with 1 Axes>"
      ]
     },
     "metadata": {},
     "output_type": "display_data"
    }
   ],
   "source": [
    "total_units = merged_df.groupby('display')['units'].sum().reset_index()\n",
    "\n",
    "# Sort the DataFrame by the category order for 'display'\n",
    "total_units['display'] = pd.Categorical(total_units['display'], categories=category_order, ordered=True)\n",
    "total_units = total_units.sort_values('display')\n",
    "\n",
    "# Create a bar plot for total units by display category with specific order and palette\n",
    "plt.figure(figsize=(8, 6))\n",
    "sns.barplot(x='display', y='units', data=total_units, palette=blue_palette)\n",
    "plt.title('Total Units by Display Category')\n",
    "plt.xlabel('Display')\n",
    "plt.ylabel('Total Units')\n",
    "plt.show()"
   ]
  },
  {
   "cell_type": "code",
   "execution_count": 82,
   "metadata": {},
   "outputs": [
    {
     "data": {
      "image/png": "[encoded data removed]",
      "text/plain": [
       "<Figure size 800x600 with 1 Axes>"
      ]
     },
     "metadata": {},
     "output_type": "display_data"
    }
   ],
   "source": [
    "# Create a box plot for 'units' categorized by 'display' with specific order and palette\n",
    "plt.figure(figsize=(8, 6))\n",
    "sns.boxplot(x='display', y='amount', data=merged_df, order=category_order, palette=blue_palette)\n",
    "plt.title('Box Plot of Units by Display Category')\n",
    "plt.xlabel('Display')\n",
    "plt.ylabel('Amount')\n",
    "plt.show()"
   ]
  },
  {
   "cell_type": "code",
   "execution_count": 83,
   "metadata": {},
   "outputs": [
    {
     "name": "stderr",
     "output_type": "stream",
     "text": [
      "c:\\Users\\Admin\\anaconda3\\Lib\\site-packages\\seaborn\\categorical.py:641: FutureWarning: The default of observed=False is deprecated and will be changed to True in a future version of pandas. Pass observed=False to retain current behavior or observed=True to adopt the future default and silence this warning.\n",
      "  grouped_vals = vals.groupby(grouper)\n"
     ]
    },
    {
     "data": {
      "image/png": "[encoded data removed]",
      "text/plain": [
       "<Figure size 800x600 with 1 Axes>"
      ]
     },
     "metadata": {},
     "output_type": "display_data"
    }
   ],
   "source": [
    "total_units = merged_df.groupby('display')['amount'].sum().reset_index()\n",
    "\n",
    "# Sort the DataFrame by the category order for 'display'\n",
    "total_units['display'] = pd.Categorical(total_units['display'], categories=category_order, ordered=True)\n",
    "total_units = total_units.sort_values('display')\n",
    "\n",
    "# Create a bar plot for total units by display category with specific order and palette\n",
    "plt.figure(figsize=(8, 6))\n",
    "sns.barplot(x='display', y='amount', data=total_units, palette=blue_palette)\n",
    "plt.title('Total Units by Display Category')\n",
    "plt.xlabel('Display')\n",
    "plt.ylabel('Total Amount')\n",
    "plt.show()"
   ]
  },
  {
   "cell_type": "markdown",
   "metadata": {},
   "source": [
    "### Hypothesis 01 and 02"
   ]
  },
  {
   "cell_type": "markdown",
   "metadata": {},
   "source": [
    "##### Displaying products at High visible places will lead to higher unit sales and amount compared to displaying them at the Medium or Low visible places."
   ]
  },
  {
   "cell_type": "code",
   "execution_count": 84,
   "metadata": {},
   "outputs": [],
   "source": [
    "control_group = merged_df[(merged_df['display'] == 'Low Visibility') | (merged_df['display'] == 'Medium Visibility')]\n",
    "test_group = merged_df[merged_df['display'] == 'High Visibility']  # High visible of Shop"
   ]
  },
  {
   "cell_type": "code",
   "execution_count": 85,
   "metadata": {},
   "outputs": [
    {
     "name": "stdout",
     "output_type": "stream",
     "text": [
      "Control Group Summary (Back/Not Displayed):\n",
      "amount    2520.278621\n",
      "units     1715.250000\n",
      "dtype: float64\n",
      "\n",
      "Test Group Summary (Front Display):\n",
      "amount    1445.300521\n",
      "units      945.937500\n",
      "dtype: float64\n"
     ]
    }
   ],
   "source": [
    "# Summarize the data to compare average sales and units sold\n",
    "control_summary = control_group[['amount', 'units']].mean()\n",
    "test_summary = test_group[['amount', 'units']].mean()\n",
    "\n",
    "print(\"Control Group Summary (Back/Not Displayed):\")\n",
    "print(control_summary)\n",
    "\n",
    "print(\"\\nTest Group Summary (Front Display):\")\n",
    "print(test_summary)"
   ]
  },
  {
   "cell_type": "code",
   "execution_count": 86,
   "metadata": {},
   "outputs": [
    {
     "name": "stdout",
     "output_type": "stream",
     "text": [
      "T-statistic for Amount: -4.392798511588274, P-value: 7.40092656445272e-05\n",
      "T-statistic for Units: -3.928320405829729, P-value: 0.0003162790144609478\n"
     ]
    }
   ],
   "source": [
    "# Perform a t-test for the amount (sales)\n",
    "t_stat_amount, p_value_amount = stats.ttest_ind(test_group['amount'], control_group['amount'], equal_var=False)\n",
    "\n",
    "# Perform a t-test for the units sold\n",
    "t_stat_units, p_value_units = stats.ttest_ind(test_group['units'], control_group['units'], equal_var=False)\n",
    "\n",
    "print(f\"T-statistic for Amount: {t_stat_amount}, P-value: {p_value_amount}\")\n",
    "print(f\"T-statistic for Units: {t_stat_units}, P-value: {p_value_units}\")\n"
   ]
  },
  {
   "cell_type": "code",
   "execution_count": 87,
   "metadata": {},
   "outputs": [
    {
     "name": "stdout",
     "output_type": "stream",
     "text": [
      "T-statistic for Amount: -2.594100262346403, P-value: 0.9951531447558053\n",
      "T-statistic for Units: -2.3673552689459316, P-value: 0.9908988342533169\n",
      "T-statistic for Amount: -2.594100262346403, P-value: 0.004846855244194685\n",
      "T-statistic for Units: -2.3673552689459316, P-value: 0.009101165746683137\n"
     ]
    }
   ],
   "source": [
    "t_stat_amount, p_value_amount = stats.ttest_ind(test_group['amount'], control_group['amount'], alternative='greater')\n",
    "\n",
    "t_stat_units, p_value_units = stats.ttest_ind(test_group['units'], control_group['units'], alternative='greater')\n",
    "\n",
    "print(f\"T-statistic for Amount: {t_stat_amount}, P-value: {p_value_amount}\")\n",
    "print(f\"T-statistic for Units: {t_stat_units}, P-value: {p_value_units}\")\n",
    "\n",
    "t_stat_amount, p_value_amount = stats.ttest_ind(test_group['amount'], control_group['amount'], alternative='less')\n",
    "\n",
    "t_stat_units, p_value_units = stats.ttest_ind(test_group['units'], control_group['units'], alternative='less')\n",
    "\n",
    "print(f\"T-statistic for Amount: {t_stat_amount}, P-value: {p_value_amount}\")\n",
    "print(f\"T-statistic for Units: {t_stat_units}, P-value: {p_value_units}\")"
   ]
  },
  {
   "cell_type": "markdown",
   "metadata": {},
   "source": [
    "### Hypothesis 03 and 04"
   ]
  },
  {
   "cell_type": "markdown",
   "metadata": {},
   "source": [
    "##### Displaying products at Medium visible places will lead to higher unit sales and amount compared to displaying them at the Higher or Low visible places."
   ]
  },
  {
   "cell_type": "code",
   "execution_count": 88,
   "metadata": {},
   "outputs": [],
   "source": [
    "control_group = merged_df[(merged_df['display'] == 'Low Visibility') | (merged_df['display'] == 'High Visibility')]\n",
    "test_group = merged_df[merged_df['display'] == 'Medium Visibility']  # Medium visible of Shop"
   ]
  },
  {
   "cell_type": "code",
   "execution_count": 89,
   "metadata": {},
   "outputs": [
    {
     "name": "stdout",
     "output_type": "stream",
     "text": [
      "Control Group Summary (Back/Not Displayed):\n",
      "amount    2579.974623\n",
      "units     1776.592460\n",
      "dtype: float64\n",
      "\n",
      "Test Group Summary (Front Display):\n",
      "amount    1888.035888\n",
      "units     1165.850467\n",
      "dtype: float64\n"
     ]
    }
   ],
   "source": [
    "# Summarize the data to compare average sales and units sold\n",
    "control_summary = control_group[['amount', 'units']].mean()\n",
    "test_summary = test_group[['amount', 'units']].mean()\n",
    "\n",
    "print(\"Control Group Summary (Back/Not Displayed):\")\n",
    "print(control_summary)\n",
    "\n",
    "print(\"\\nTest Group Summary (Front Display):\")\n",
    "print(test_summary)"
   ]
  },
  {
   "cell_type": "code",
   "execution_count": 90,
   "metadata": {},
   "outputs": [
    {
     "name": "stdout",
     "output_type": "stream",
     "text": [
      "T-statistic for Amount: -3.009742828495914, P-value: 0.0030483668633122635\n",
      "T-statistic for Units: -3.923945031247665, P-value: 0.00012238746943317403\n"
     ]
    }
   ],
   "source": [
    "# Perform a t-test for the amount (sales)\n",
    "t_stat_amount, p_value_amount = stats.ttest_ind(test_group['amount'], control_group['amount'], equal_var=False)\n",
    "\n",
    "# Perform a t-test for the units sold\n",
    "t_stat_units, p_value_units = stats.ttest_ind(test_group['units'], control_group['units'], equal_var=False)\n",
    "\n",
    "print(f\"T-statistic for Amount: {t_stat_amount}, P-value: {p_value_amount}\")\n",
    "print(f\"T-statistic for Units: {t_stat_units}, P-value: {p_value_units}\")"
   ]
  },
  {
   "cell_type": "code",
   "execution_count": 91,
   "metadata": {},
   "outputs": [
    {
     "name": "stdout",
     "output_type": "stream",
     "text": [
      "T-statistic for Amount: -2.8696508947117922, P-value: 0.9978798390315997\n",
      "T-statistic for Units: -3.2380692538661466, P-value: 0.9993682426866544\n",
      "T-statistic for Amount: -2.8696508947117922, P-value: 0.0021201609684002726\n",
      "T-statistic for Units: -3.2380692538661466, P-value: 0.0006317573133455763\n"
     ]
    }
   ],
   "source": [
    "t_stat_amount, p_value_amount = stats.ttest_ind(test_group['amount'], control_group['amount'], alternative='greater')\n",
    "\n",
    "t_stat_units, p_value_units = stats.ttest_ind(test_group['units'], control_group['units'], alternative='greater')\n",
    "\n",
    "print(f\"T-statistic for Amount: {t_stat_amount}, P-value: {p_value_amount}\")\n",
    "print(f\"T-statistic for Units: {t_stat_units}, P-value: {p_value_units}\")\n",
    "\n",
    "t_stat_amount, p_value_amount = stats.ttest_ind(test_group['amount'], control_group['amount'], alternative='less')\n",
    "\n",
    "t_stat_units, p_value_units = stats.ttest_ind(test_group['units'], control_group['units'], alternative='less')\n",
    "\n",
    "print(f\"T-statistic for Amount: {t_stat_amount}, P-value: {p_value_amount}\")\n",
    "print(f\"T-statistic for Units: {t_stat_units}, P-value: {p_value_units}\")"
   ]
  },
  {
   "cell_type": "markdown",
   "metadata": {},
   "source": [
    "### Hypothesis 05 and 06"
   ]
  },
  {
   "cell_type": "markdown",
   "metadata": {},
   "source": [
    "##### Displaying products at Low visible places will lead to higher unit sales and amount compared to displaying them at the Higher or Medium visible places."
   ]
  },
  {
   "cell_type": "code",
   "execution_count": 92,
   "metadata": {},
   "outputs": [],
   "source": [
    "control_group = merged_df[(merged_df['display'] == 'Medium Visibility') | (merged_df['display'] == 'High Visibility')]\n",
    "test_group = merged_df[merged_df['display'] == 'Low Visibility']  # Low visible of Shop"
   ]
  },
  {
   "cell_type": "code",
   "execution_count": 93,
   "metadata": {},
   "outputs": [
    {
     "name": "stdout",
     "output_type": "stream",
     "text": [
      "Control Group Summary (Back/Not Displayed):\n",
      "amount    1786.111199\n",
      "units     1115.223022\n",
      "dtype: float64\n",
      "\n",
      "Test Group Summary (Front Display):\n",
      "amount    2649.135711\n",
      "units     1827.222857\n",
      "dtype: float64\n"
     ]
    }
   ],
   "source": [
    "# Summarize the data to compare average sales and units sold\n",
    "control_summary = control_group[['amount', 'units']].mean()\n",
    "test_summary = test_group[['amount', 'units']].mean()\n",
    "\n",
    "print(\"Control Group Summary (Back/Not Displayed):\")\n",
    "print(control_summary)\n",
    "\n",
    "print(\"\\nTest Group Summary (Front Display):\")\n",
    "print(test_summary)"
   ]
  },
  {
   "cell_type": "code",
   "execution_count": 94,
   "metadata": {},
   "outputs": [
    {
     "name": "stdout",
     "output_type": "stream",
     "text": [
      "T-statistic for Amount: 4.374098063627126, P-value: 1.794608326911391e-05\n",
      "T-statistic for Units: 5.140066305061044, P-value: 4.922340628090173e-07\n"
     ]
    }
   ],
   "source": [
    "t_stat_amount, p_value_amount = stats.ttest_ind(test_group['amount'], control_group['amount'], equal_var=False)\n",
    "\n",
    "t_stat_units, p_value_units = stats.ttest_ind(test_group['units'], control_group['units'], equal_var=False)\n",
    "\n",
    "print(f\"T-statistic for Amount: {t_stat_amount}, P-value: {p_value_amount}\")\n",
    "print(f\"T-statistic for Units: {t_stat_units}, P-value: {p_value_units}\")"
   ]
  },
  {
   "cell_type": "code",
   "execution_count": 95,
   "metadata": {},
   "outputs": [
    {
     "name": "stdout",
     "output_type": "stream",
     "text": [
      "T-statistic for Amount: 3.982996923350375, P-value: 3.7798290223996257e-05\n",
      "T-statistic for Units: 4.1992520003329945, P-value: 1.5222444404438572e-05\n",
      "T-statistic for Amount: 3.982996923350375, P-value: 0.999962201709776\n",
      "T-statistic for Units: 4.1992520003329945, P-value: 0.9999847775555956\n"
     ]
    }
   ],
   "source": [
    "t_stat_amount, p_value_amount = stats.ttest_ind(test_group['amount'], control_group['amount'], alternative='greater')\n",
    "\n",
    "t_stat_units, p_value_units = stats.ttest_ind(test_group['units'], control_group['units'], alternative='greater')\n",
    "\n",
    "print(f\"T-statistic for Amount: {t_stat_amount}, P-value: {p_value_amount}\")\n",
    "print(f\"T-statistic for Units: {t_stat_units}, P-value: {p_value_units}\")\n",
    "\n",
    "t_stat_amount, p_value_amount = stats.ttest_ind(test_group['amount'], control_group['amount'], alternative='less')\n",
    "\n",
    "t_stat_units, p_value_units = stats.ttest_ind(test_group['units'], control_group['units'], alternative='less')\n",
    "\n",
    "print(f\"T-statistic for Amount: {t_stat_amount}, P-value: {p_value_amount}\")\n",
    "print(f\"T-statistic for Units: {t_stat_units}, P-value: {p_value_units}\")"
   ]
  }
 ],
 "metadata": {
  "kernelspec": {
   "display_name": "base",
   "language": "python",
   "name": "python3"
  },
  "language_info": {
   "codemirror_mode": {
    "name": "ipython",
    "version": 3
   },
   "file_extension": ".py",
   "mimetype": "text/x-python",
   "name": "python",
   "nbconvert_exporter": "python",
   "pygments_lexer": "ipython3",
   "version": "3.11.7"
  }
 },
 "nbformat": 4,
 "nbformat_minor": 2
}
